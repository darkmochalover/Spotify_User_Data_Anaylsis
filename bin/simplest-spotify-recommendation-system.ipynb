{
 "cells": [
  {
   "cell_type": "code",
   "execution_count": 1,
   "id": "d4faa711",
   "metadata": {
    "execution": {
     "iopub.execute_input": "2023-02-12T09:40:26.377818Z",
     "iopub.status.busy": "2023-02-12T09:40:26.376718Z",
     "iopub.status.idle": "2023-02-12T09:40:27.353295Z",
     "shell.execute_reply": "2023-02-12T09:40:27.352034Z"
    },
    "jupyter": {
     "source_hidden": true
    },
    "papermill": {
     "duration": 0.988797,
     "end_time": "2023-02-12T09:40:27.356596",
     "exception": false,
     "start_time": "2023-02-12T09:40:26.367799",
     "status": "completed"
    },
    "tags": []
   },
   "outputs": [],
   "source": [
    "import pandas as pd\n",
    "import numpy as np\n",
    "from sklearn import preprocessing\n",
    "from scipy.spatial import distance"
   ]
  },
  {
   "cell_type": "code",
   "execution_count": 2,
   "id": "f776e953",
   "metadata": {
    "execution": {
     "iopub.execute_input": "2023-02-12T09:40:27.369315Z",
     "iopub.status.busy": "2023-02-12T09:40:27.368850Z",
     "iopub.status.idle": "2023-02-12T09:40:28.179514Z",
     "shell.execute_reply": "2023-02-12T09:40:28.178128Z"
    },
    "papermill": {
     "duration": 0.820561,
     "end_time": "2023-02-12T09:40:28.182747",
     "exception": false,
     "start_time": "2023-02-12T09:40:27.362186",
     "status": "completed"
    },
    "tags": []
   },
   "outputs": [],
   "source": [
    "data = pd.read_csv('data/dataset.csv')"
   ]
  },
  {
   "cell_type": "code",
   "execution_count": 3,
   "id": "a411253c",
   "metadata": {
    "execution": {
     "iopub.execute_input": "2023-02-12T09:40:28.195864Z",
     "iopub.status.busy": "2023-02-12T09:40:28.194663Z",
     "iopub.status.idle": "2023-02-12T09:40:28.201108Z",
     "shell.execute_reply": "2023-02-12T09:40:28.199814Z"
    },
    "papermill": {
     "duration": 0.01536,
     "end_time": "2023-02-12T09:40:28.203463",
     "exception": false,
     "start_time": "2023-02-12T09:40:28.188103",
     "status": "completed"
    },
    "tags": []
   },
   "outputs": [],
   "source": [
    "# Sorting and cleaning data."
   ]
  },
  {
   "cell_type": "code",
   "execution_count": 4,
   "id": "61e12700",
   "metadata": {
    "execution": {
     "iopub.execute_input": "2023-02-12T09:40:28.215443Z",
     "iopub.status.busy": "2023-02-12T09:40:28.215015Z",
     "iopub.status.idle": "2023-02-12T09:40:28.282833Z",
     "shell.execute_reply": "2023-02-12T09:40:28.281412Z"
    },
    "papermill": {
     "duration": 0.077299,
     "end_time": "2023-02-12T09:40:28.285919",
     "exception": false,
     "start_time": "2023-02-12T09:40:28.208620",
     "status": "completed"
    },
    "tags": []
   },
   "outputs": [],
   "source": [
    "data_sort = data.drop(['time_signature', 'Unnamed: 0', 'key'], axis=1)\n",
    "data_sort.drop_duplicates(subset=['track_id'], inplace=True)"
   ]
  },
  {
   "cell_type": "code",
   "execution_count": 5,
   "id": "f8670cfb",
   "metadata": {
    "execution": {
     "iopub.execute_input": "2023-02-12T09:40:28.298180Z",
     "iopub.status.busy": "2023-02-12T09:40:28.297697Z",
     "iopub.status.idle": "2023-02-12T09:40:28.302885Z",
     "shell.execute_reply": "2023-02-12T09:40:28.301673Z"
    },
    "papermill": {
     "duration": 0.014121,
     "end_time": "2023-02-12T09:40:28.305235",
     "exception": false,
     "start_time": "2023-02-12T09:40:28.291114",
     "status": "completed"
    },
    "tags": []
   },
   "outputs": [],
   "source": [
    "# Normilizing data."
   ]
  },
  {
   "cell_type": "code",
   "execution_count": 5,
   "id": "9d1185ca",
   "metadata": {
    "execution": {
     "iopub.execute_input": "2023-02-12T09:40:28.317842Z",
     "iopub.status.busy": "2023-02-12T09:40:28.316815Z",
     "iopub.status.idle": "2023-02-12T09:40:28.353606Z",
     "shell.execute_reply": "2023-02-12T09:40:28.352349Z"
    },
    "papermill": {
     "duration": 0.046256,
     "end_time": "2023-02-12T09:40:28.356640",
     "exception": false,
     "start_time": "2023-02-12T09:40:28.310384",
     "status": "completed"
    },
    "tags": []
   },
   "outputs": [],
   "source": [
    "scaler = preprocessing.MinMaxScaler()\n",
    "names = data_sort.select_dtypes(include = np.number).columns\n",
    "d = scaler.fit_transform(data_sort.select_dtypes(include = np.number))\n",
    "data_norm = pd.DataFrame(d, columns=names)"
   ]
  },
  {
   "cell_type": "code",
   "execution_count": 13,
   "id": "d7f117ce",
   "metadata": {
    "execution": {
     "iopub.execute_input": "2023-02-12T09:40:28.369045Z",
     "iopub.status.busy": "2023-02-12T09:40:28.368585Z",
     "iopub.status.idle": "2023-02-12T09:40:28.375128Z",
     "shell.execute_reply": "2023-02-12T09:40:28.373944Z"
    },
    "papermill": {
     "duration": 0.015604,
     "end_time": "2023-02-12T09:40:28.377508",
     "exception": false,
     "start_time": "2023-02-12T09:40:28.361904",
     "status": "completed"
    },
    "tags": []
   },
   "outputs": [
    {
     "name": "stdout",
     "output_type": "stream",
     "text": [
      "                        popularity  duration_ms  danceability  energy  \\\n",
      "track_id                                                                \n",
      "5SuOikwiRyPMVoIQDJUgSV        0.73     0.044043      0.686294  0.4610   \n",
      "4qPNDBW1i3p13qLCt0Ki3A        0.55     0.028566      0.426396  0.1660   \n",
      "1iJBSr7s7jYXzM8EGcbK5b        0.57     0.040255      0.444670  0.3590   \n",
      "6lfxq3CG4xtTiEg7opyCyx        0.71     0.038557      0.270051  0.0596   \n",
      "5vjLSffimiIP26QG5WcN2K        0.82     0.037969      0.627411  0.4430   \n",
      "...                            ...          ...           ...     ...   \n",
      "2C3TZjDRiAzdyViavDJ217        0.21     0.073511      0.174619  0.2350   \n",
      "1hIz5L4IB9hN3WRYPOCGPw        0.22     0.073511      0.176650  0.1170   \n",
      "6x8ZfSoqDjuNa5SVP5QjvX        0.22     0.051833      0.638579  0.3290   \n",
      "2e6sXL2bYv4bSz6VTdnfLs        0.41     0.054206      0.595939  0.5060   \n",
      "2hETkH7cOfqmz3LqZDHZf5        0.22     0.046174      0.534010  0.4870   \n",
      "\n",
      "                        loudness  mode  speechiness  acousticness  \\\n",
      "track_id                                                            \n",
      "5SuOikwiRyPMVoIQDJUgSV  0.791392   0.0     0.148187      0.032329   \n",
      "4qPNDBW1i3p13qLCt0Ki3A  0.597377   1.0     0.079067      0.927711   \n",
      "1iJBSr7s7jYXzM8EGcbK5b  0.736123   1.0     0.057720      0.210843   \n",
      "6lfxq3CG4xtTiEg7opyCyx  0.573701   1.0     0.037617      0.908635   \n",
      "5vjLSffimiIP26QG5WcN2K  0.737103   1.0     0.054508      0.470884   \n",
      "...                          ...   ...          ...           ...   \n",
      "2C3TZjDRiAzdyViavDJ217  0.612952   1.0     0.043731      0.642570   \n",
      "1hIz5L4IB9hN3WRYPOCGPw  0.577345   0.0     0.041554      0.997992   \n",
      "6x8ZfSoqDjuNa5SVP5QjvX  0.714648   0.0     0.043523      0.870482   \n",
      "2e6sXL2bYv4bSz6VTdnfLs  0.714759   1.0     0.030777      0.382530   \n",
      "2hETkH7cOfqmz3LqZDHZf5  0.727429   0.0     0.075130      0.683735   \n",
      "\n",
      "                        instrumentalness  liveness   valence     tempo  \n",
      "track_id                                                                \n",
      "5SuOikwiRyPMVoIQDJUgSV          0.000001    0.3580  0.718593  0.361245  \n",
      "4qPNDBW1i3p13qLCt0Ki3A          0.000006    0.1010  0.268342  0.318397  \n",
      "1iJBSr7s7jYXzM8EGcbK5b          0.000000    0.1170  0.120603  0.313643  \n",
      "6lfxq3CG4xtTiEg7opyCyx          0.000071    0.1320  0.143719  0.746758  \n",
      "5vjLSffimiIP26QG5WcN2K          0.000000    0.0829  0.167839  0.492863  \n",
      "...                                  ...       ...       ...       ...  \n",
      "2C3TZjDRiAzdyViavDJ217          0.928000    0.0863  0.034070  0.517705  \n",
      "1hIz5L4IB9hN3WRYPOCGPw          0.976000    0.1050  0.035176  0.350242  \n",
      "6x8ZfSoqDjuNa5SVP5QjvX          0.000000    0.0839  0.746734  0.543933  \n",
      "2e6sXL2bYv4bSz6VTdnfLs          0.000000    0.2700  0.415075  0.558651  \n",
      "2hETkH7cOfqmz3LqZDHZf5          0.000000    0.0893  0.711558  0.325420  \n",
      "\n",
      "[89741 rows x 12 columns]\n"
     ]
    }
   ],
   "source": [
    "data_norm.set_index(data_sort.loc[:, 'track_id'], inplace=True)\n",
    "print(data_norm)"
   ]
  },
  {
   "cell_type": "code",
   "execution_count": 8,
   "id": "1fc806ec",
   "metadata": {
    "execution": {
     "iopub.execute_input": "2023-02-12T09:40:28.389367Z",
     "iopub.status.busy": "2023-02-12T09:40:28.388938Z",
     "iopub.status.idle": "2023-02-12T09:40:28.393913Z",
     "shell.execute_reply": "2023-02-12T09:40:28.392655Z"
    },
    "papermill": {
     "duration": 0.013846,
     "end_time": "2023-02-12T09:40:28.396461",
     "exception": false,
     "start_time": "2023-02-12T09:40:28.382615",
     "status": "completed"
    },
    "tags": []
   },
   "outputs": [],
   "source": [
    "# Choosing some track."
   ]
  },
  {
   "cell_type": "code",
   "execution_count": 7,
   "id": "3929fd16",
   "metadata": {
    "execution": {
     "iopub.execute_input": "2023-02-12T09:40:28.408387Z",
     "iopub.status.busy": "2023-02-12T09:40:28.407975Z",
     "iopub.status.idle": "2023-02-12T09:40:28.413547Z",
     "shell.execute_reply": "2023-02-12T09:40:28.412298Z"
    },
    "papermill": {
     "duration": 0.01449,
     "end_time": "2023-02-12T09:40:28.416050",
     "exception": false,
     "start_time": "2023-02-12T09:40:28.401560",
     "status": "completed"
    },
    "tags": []
   },
   "outputs": [],
   "source": [
    "x = list(data_norm.iloc[17])"
   ]
  },
  {
   "cell_type": "code",
   "execution_count": 10,
   "id": "8cac7e30",
   "metadata": {
    "execution": {
     "iopub.execute_input": "2023-02-12T09:40:28.427677Z",
     "iopub.status.busy": "2023-02-12T09:40:28.427283Z",
     "iopub.status.idle": "2023-02-12T09:40:28.432111Z",
     "shell.execute_reply": "2023-02-12T09:40:28.430935Z"
    },
    "papermill": {
     "duration": 0.013423,
     "end_time": "2023-02-12T09:40:28.434541",
     "exception": false,
     "start_time": "2023-02-12T09:40:28.421118",
     "status": "completed"
    },
    "tags": []
   },
   "outputs": [],
   "source": [
    "# Calculating distance to other tracks vectors."
   ]
  },
  {
   "cell_type": "code",
   "execution_count": 8,
   "id": "3b87d1e1",
   "metadata": {
    "execution": {
     "iopub.execute_input": "2023-02-12T09:40:28.447628Z",
     "iopub.status.busy": "2023-02-12T09:40:28.446720Z",
     "iopub.status.idle": "2023-02-12T09:40:34.390706Z",
     "shell.execute_reply": "2023-02-12T09:40:34.389308Z"
    },
    "papermill": {
     "duration": 5.954326,
     "end_time": "2023-02-12T09:40:34.394223",
     "exception": false,
     "start_time": "2023-02-12T09:40:28.439897",
     "status": "completed"
    },
    "tags": []
   },
   "outputs": [],
   "source": [
    "data_result = pd.DataFrame()\n",
    "data_result['euclidean'] = [distance.euclidean(obj, x) for index, obj in data_norm.iterrows()]\n",
    "data_result['track_id'] = data_norm.index"
   ]
  },
  {
   "cell_type": "code",
   "execution_count": 12,
   "id": "d3a4f511",
   "metadata": {
    "execution": {
     "iopub.execute_input": "2023-02-12T09:40:34.407217Z",
     "iopub.status.busy": "2023-02-12T09:40:34.406704Z",
     "iopub.status.idle": "2023-02-12T09:40:34.412119Z",
     "shell.execute_reply": "2023-02-12T09:40:34.410886Z"
    },
    "papermill": {
     "duration": 0.014827,
     "end_time": "2023-02-12T09:40:34.414518",
     "exception": false,
     "start_time": "2023-02-12T09:40:34.399691",
     "status": "completed"
    },
    "tags": []
   },
   "outputs": [],
   "source": [
    "# And taking nearest 5."
   ]
  },
  {
   "cell_type": "code",
   "execution_count": 9,
   "id": "5236b18a",
   "metadata": {
    "execution": {
     "iopub.execute_input": "2023-02-12T09:40:34.427426Z",
     "iopub.status.busy": "2023-02-12T09:40:34.426811Z",
     "iopub.status.idle": "2023-02-12T09:40:34.450779Z",
     "shell.execute_reply": "2023-02-12T09:40:34.449532Z"
    },
    "papermill": {
     "duration": 0.033698,
     "end_time": "2023-02-12T09:40:34.453788",
     "exception": false,
     "start_time": "2023-02-12T09:40:34.420090",
     "status": "completed"
    },
    "tags": []
   },
   "outputs": [],
   "source": [
    "data_sug = data_result.sort_values(by=['euclidean']).iloc[:6]"
   ]
  },
  {
   "cell_type": "code",
   "execution_count": 14,
   "id": "f65a0596",
   "metadata": {
    "execution": {
     "iopub.execute_input": "2023-02-12T09:40:34.466564Z",
     "iopub.status.busy": "2023-02-12T09:40:34.465463Z",
     "iopub.status.idle": "2023-02-12T09:40:34.469784Z",
     "shell.execute_reply": "2023-02-12T09:40:34.469013Z"
    },
    "papermill": {
     "duration": 0.012968,
     "end_time": "2023-02-12T09:40:34.472079",
     "exception": false,
     "start_time": "2023-02-12T09:40:34.459111",
     "status": "completed"
    },
    "tags": []
   },
   "outputs": [],
   "source": [
    "# Getting info for the tracks."
   ]
  },
  {
   "cell_type": "code",
   "execution_count": 10,
   "id": "f8530fc5",
   "metadata": {
    "execution": {
     "iopub.execute_input": "2023-02-12T09:40:34.484683Z",
     "iopub.status.busy": "2023-02-12T09:40:34.484033Z",
     "iopub.status.idle": "2023-02-12T09:40:34.495519Z",
     "shell.execute_reply": "2023-02-12T09:40:34.494233Z"
    },
    "papermill": {
     "duration": 0.021339,
     "end_time": "2023-02-12T09:40:34.498627",
     "exception": false,
     "start_time": "2023-02-12T09:40:34.477288",
     "status": "completed"
    },
    "tags": []
   },
   "outputs": [],
   "source": [
    "data_big = data_sort.set_index(data_sort.loc[:, 'track_id'])"
   ]
  },
  {
   "cell_type": "code",
   "execution_count": 11,
   "id": "6df86e60",
   "metadata": {
    "execution": {
     "iopub.execute_input": "2023-02-12T09:40:34.511305Z",
     "iopub.status.busy": "2023-02-12T09:40:34.510840Z",
     "iopub.status.idle": "2023-02-12T09:40:34.609341Z",
     "shell.execute_reply": "2023-02-12T09:40:34.607935Z"
    },
    "papermill": {
     "duration": 0.108544,
     "end_time": "2023-02-12T09:40:34.612398",
     "exception": false,
     "start_time": "2023-02-12T09:40:34.503854",
     "status": "completed"
    },
    "tags": []
   },
   "outputs": [],
   "source": [
    "track_list = pd.DataFrame()\n",
    "for i in list(data_sug.loc[:, 'track_id']):\n",
    "    if i in list(data_sort.loc[:, 'track_id']):\n",
    "        track_info = data_big.loc[[i], ['track_name', 'artists']]\n",
    "        #track_list = track_list.append(track_info)\n",
    "        track_list = pd.concat([track_list, track_info], ignore_index=True)"
   ]
  },
  {
   "cell_type": "code",
   "execution_count": 17,
   "id": "c57bfea2",
   "metadata": {
    "execution": {
     "iopub.execute_input": "2023-02-12T09:40:34.624388Z",
     "iopub.status.busy": "2023-02-12T09:40:34.623926Z",
     "iopub.status.idle": "2023-02-12T09:40:34.628903Z",
     "shell.execute_reply": "2023-02-12T09:40:34.627797Z"
    },
    "papermill": {
     "duration": 0.013637,
     "end_time": "2023-02-12T09:40:34.631289",
     "exception": false,
     "start_time": "2023-02-12T09:40:34.617652",
     "status": "completed"
    },
    "tags": []
   },
   "outputs": [],
   "source": [
    "# And finally recommend."
   ]
  },
  {
   "cell_type": "code",
   "execution_count": 12,
   "id": "47c5a125",
   "metadata": {
    "execution": {
     "iopub.execute_input": "2023-02-12T09:40:34.643093Z",
     "iopub.status.busy": "2023-02-12T09:40:34.642632Z",
     "iopub.status.idle": "2023-02-12T09:40:34.649906Z",
     "shell.execute_reply": "2023-02-12T09:40:34.648787Z"
    },
    "papermill": {
     "duration": 0.016345,
     "end_time": "2023-02-12T09:40:34.652664",
     "exception": false,
     "start_time": "2023-02-12T09:40:34.636319",
     "status": "completed"
    },
    "tags": []
   },
   "outputs": [
    {
     "name": "stdout",
     "output_type": "stream",
     "text": [
      "You've just listened:   At My Worst - Andrew Foy;Renee Foy \n",
      "Now you may listen : \n",
      "'Rolling in the Deep - Acapella - Adele'\n",
      "Or any of:\n",
      "'I Love You - Barney' \n",
      "'Soft Skin - Timmies;Shiloh Dynasty'\n",
      "'C'est si bon - Aoi Teshima'\n",
      "'Tere Aane Ki Jab Khabar Mehke - Jagjit Singh'  \n"
     ]
    }
   ],
   "source": [
    "recomended = track_list.values.tolist()\n",
    "print(f\"\"\"You've just listened:   {recomended[0][0]} - {recomended[0][1]} \n",
    "Now you may listen : \n",
    "'{recomended[1][0]} - {recomended[1][1]}'\n",
    "Or any of:\n",
    "'{recomended[2][0]} - {recomended[2][1]}' \n",
    "'{recomended[3][0]} - {recomended[3][1]}'\n",
    "'{recomended[4][0]} - {recomended[4][1]}'\n",
    "'{recomended[5][0]} - {recomended[5][1]}'  \"\"\")"
   ]
  }
 ],
 "metadata": {
  "kernelspec": {
   "display_name": "Python 3",
   "language": "python",
   "name": "python3"
  },
  "language_info": {
   "codemirror_mode": {
    "name": "ipython",
    "version": 3
   },
   "file_extension": ".py",
   "mimetype": "text/x-python",
   "name": "python",
   "nbconvert_exporter": "python",
   "pygments_lexer": "ipython3",
   "version": "3.9.17"
  },
  "papermill": {
   "default_parameters": {},
   "duration": 17.750443,
   "end_time": "2023-02-12T09:40:35.480991",
   "environment_variables": {},
   "exception": null,
   "input_path": "__notebook__.ipynb",
   "output_path": "__notebook__.ipynb",
   "parameters": {},
   "start_time": "2023-02-12T09:40:17.730548",
   "version": "2.3.4"
  }
 },
 "nbformat": 4,
 "nbformat_minor": 5
}
